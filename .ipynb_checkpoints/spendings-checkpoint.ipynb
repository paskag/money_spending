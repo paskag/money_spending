{
 "cells": [
  {
   "cell_type": "code",
   "execution_count": 2,
   "id": "51b97d37-8935-4555-9812-491a6fcc3bc5",
   "metadata": {},
   "outputs": [],
   "source": [
    "import pandas as pd\n",
    "from datetime import datetime\n",
    "from IPython.display import display\n",
    "import warnings\n",
    "warnings.filterwarnings(\"ignore\")"
   ]
  },
  {
   "cell_type": "code",
   "execution_count": 3,
   "id": "eeea18c0-259b-469b-9dd9-70b4f4a57b07",
   "metadata": {},
   "outputs": [],
   "source": [
    "from spendings import MoneySpendings"
   ]
  },
  {
   "cell_type": "code",
   "execution_count": 4,
   "id": "695cd09c-132f-4f70-890d-390875f9e396",
   "metadata": {},
   "outputs": [],
   "source": [
    "df = pd.read_csv(\"Spendings_csv.csv\", parse_dates=[\"Date\"], date_format=\"%d/%m/%Y\")"
   ]
  },
  {
   "cell_type": "code",
   "execution_count": 5,
   "id": "b8ce1585-9cb9-4d6a-b7d0-a7b23beb37bf",
   "metadata": {},
   "outputs": [],
   "source": [
    "test = MoneySpendings(df)"
   ]
  },
  {
   "cell_type": "code",
   "execution_count": 6,
   "id": "38691a4f-716c-4ef2-8f27-1cb34a4733c8",
   "metadata": {},
   "outputs": [],
   "source": [
    "test.start()"
   ]
  },
  {
   "cell_type": "code",
   "execution_count": null,
   "id": "9bb058c2-24a6-4988-aff9-7cd72fbd9ace",
   "metadata": {},
   "outputs": [],
   "source": [
    "df = pd.read_csv(\"Spendings_csv.csv\", parse_dates=[\"Date\"], date_format=\"%d/%m/%Y\")"
   ]
  },
  {
   "cell_type": "code",
   "execution_count": 9,
   "id": "98a90851-bd0d-453b-a223-d3a21671c636",
   "metadata": {},
   "outputs": [
    {
     "name": "stdout",
     "output_type": "stream",
     "text": [
      "Spendings in May: 11613.28 sheckels\n",
      "Spendings in May with the appartment: 17313.28 sheckels\n"
     ]
    },
    {
     "data": {
      "text/html": [
       "<div>\n",
       "<style scoped>\n",
       "    .dataframe tbody tr th:only-of-type {\n",
       "        vertical-align: middle;\n",
       "    }\n",
       "\n",
       "    .dataframe tbody tr th {\n",
       "        vertical-align: top;\n",
       "    }\n",
       "\n",
       "    .dataframe thead th {\n",
       "        text-align: right;\n",
       "    }\n",
       "</style>\n",
       "<table border=\"1\" class=\"dataframe\">\n",
       "  <thead>\n",
       "    <tr style=\"text-align: right;\">\n",
       "      <th></th>\n",
       "      <th>Price</th>\n",
       "    </tr>\n",
       "    <tr>\n",
       "      <th>Category</th>\n",
       "      <th></th>\n",
       "    </tr>\n",
       "  </thead>\n",
       "  <tbody>\n",
       "    <tr>\n",
       "      <th>Grocery</th>\n",
       "      <td>2418.92</td>\n",
       "    </tr>\n",
       "    <tr>\n",
       "      <th>Presents</th>\n",
       "      <td>2178.00</td>\n",
       "    </tr>\n",
       "    <tr>\n",
       "      <th>Restaurants</th>\n",
       "      <td>1432.90</td>\n",
       "    </tr>\n",
       "    <tr>\n",
       "      <th>Health</th>\n",
       "      <td>1061.00</td>\n",
       "    </tr>\n",
       "    <tr>\n",
       "      <th>Fuel</th>\n",
       "      <td>849.72</td>\n",
       "    </tr>\n",
       "    <tr>\n",
       "      <th>Home</th>\n",
       "      <td>796.60</td>\n",
       "    </tr>\n",
       "    <tr>\n",
       "      <th>Entertainment</th>\n",
       "      <td>730.00</td>\n",
       "    </tr>\n",
       "    <tr>\n",
       "      <th>Treatment</th>\n",
       "      <td>722.52</td>\n",
       "    </tr>\n",
       "    <tr>\n",
       "      <th>Utility bills</th>\n",
       "      <td>647.62</td>\n",
       "    </tr>\n",
       "    <tr>\n",
       "      <th>Beauty</th>\n",
       "      <td>480.00</td>\n",
       "    </tr>\n",
       "    <tr>\n",
       "      <th>Education</th>\n",
       "      <td>265.00</td>\n",
       "    </tr>\n",
       "    <tr>\n",
       "      <th>Parking</th>\n",
       "      <td>31.00</td>\n",
       "    </tr>\n",
       "  </tbody>\n",
       "</table>\n",
       "</div>"
      ],
      "text/plain": [
       "                 Price\n",
       "Category              \n",
       "Grocery        2418.92\n",
       "Presents       2178.00\n",
       "Restaurants    1432.90\n",
       "Health         1061.00\n",
       "Fuel            849.72\n",
       "Home            796.60\n",
       "Entertainment   730.00\n",
       "Treatment       722.52\n",
       "Utility bills   647.62\n",
       "Beauty          480.00\n",
       "Education       265.00\n",
       "Parking          31.00"
      ]
     },
     "metadata": {},
     "output_type": "display_data"
    },
    {
     "data": {
      "text/html": [
       "<div>\n",
       "<style scoped>\n",
       "    .dataframe tbody tr th:only-of-type {\n",
       "        vertical-align: middle;\n",
       "    }\n",
       "\n",
       "    .dataframe tbody tr th {\n",
       "        vertical-align: top;\n",
       "    }\n",
       "\n",
       "    .dataframe thead th {\n",
       "        text-align: right;\n",
       "    }\n",
       "</style>\n",
       "<table border=\"1\" class=\"dataframe\">\n",
       "  <thead>\n",
       "    <tr style=\"text-align: right;\">\n",
       "      <th></th>\n",
       "      <th>Price</th>\n",
       "      <th>Price_apt</th>\n",
       "    </tr>\n",
       "    <tr>\n",
       "      <th>Who</th>\n",
       "      <th></th>\n",
       "      <th></th>\n",
       "    </tr>\n",
       "  </thead>\n",
       "  <tbody>\n",
       "    <tr>\n",
       "      <th>Pasha</th>\n",
       "      <td>7795.17</td>\n",
       "      <td>10645.17</td>\n",
       "    </tr>\n",
       "    <tr>\n",
       "      <th>Alona</th>\n",
       "      <td>3818.11</td>\n",
       "      <td>6668.11</td>\n",
       "    </tr>\n",
       "  </tbody>\n",
       "</table>\n",
       "</div>"
      ],
      "text/plain": [
       "         Price  Price_apt\n",
       "Who                      \n",
       "Pasha  7795.17   10645.17\n",
       "Alona  3818.11    6668.11"
      ]
     },
     "metadata": {},
     "output_type": "display_data"
    }
   ],
   "source": [
    "test.info_by_month_manually(month=\"May\", date_beg=\"10/05/2024\", date_end=\"09/06/2024\", price_apt=5700)"
   ]
  },
  {
   "cell_type": "code",
   "execution_count": null,
   "id": "1509229e-3c22-4e8b-ae31-52d107deb567",
   "metadata": {},
   "outputs": [],
   "source": []
  },
  {
   "cell_type": "code",
   "execution_count": null,
   "id": "ea849be5-f36c-4ac5-9d4d-f11423fa13a2",
   "metadata": {},
   "outputs": [],
   "source": []
  }
 ],
 "metadata": {
  "kernelspec": {
   "display_name": "Python 3 (ipykernel)",
   "language": "python",
   "name": "python3"
  },
  "language_info": {
   "codemirror_mode": {
    "name": "ipython",
    "version": 3
   },
   "file_extension": ".py",
   "mimetype": "text/x-python",
   "name": "python",
   "nbconvert_exporter": "python",
   "pygments_lexer": "ipython3",
   "version": "3.10.13"
  }
 },
 "nbformat": 4,
 "nbformat_minor": 5
}
